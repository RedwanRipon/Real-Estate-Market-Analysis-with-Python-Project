{
 "cells": [
  {
   "cell_type": "code",
   "execution_count": 53,
   "id": "e52899e1-6eaa-41f3-aa7f-22057d70bc49",
   "metadata": {},
   "outputs": [],
   "source": [
    "import pandas as pd\n",
    "import numpy as np\n",
    "import matplotlib.pyplot as plt\n",
    "import seaborn as sns\n",
    "import datetime\n",
    "\n"
   ]
  },
  {
   "cell_type": "code",
   "execution_count": 54,
   "id": "eb026034-e0a5-4afa-933d-4d8b94567636",
   "metadata": {},
   "outputs": [],
   "source": [
    "#  Load\n",
    "properties= pd.read_csv(\"data/properties.csv\",encoding='utf-8-sig')\n",
    "customers = pd.read_csv(\"data/customers.csv\",encoding='utf-8-sig')"
   ]
  },
  {
   "cell_type": "code",
   "execution_count": 55,
   "id": "f17a0f4d",
   "metadata": {},
   "outputs": [
    {
     "name": "stdout",
     "output_type": "stream",
     "text": [
      "   Unnamed: 0 ﻿customerid      entity     name  surname  birth_date  sex  \\\n",
      "0           0       C0110  Individual   Kareem      Liu   5/11/1968    F   \n",
      "1           1       C0010  Individual  Trystan  Oconnor  11/26/1962    M   \n",
      "2           2       C0132  Individual     Kale      Gay    4/7/1959    M   \n",
      "3           3       C0137  Individual  Russell    Gross  11/25/1959    M   \n",
      "4           4       C0174     Company  Marleez       Co         NaN  NaN   \n",
      "\n",
      "  country       state     purpose  deal_satisfaction mortgage   source  \n",
      "0     USA  California        Home                  4      Yes  Website  \n",
      "1     USA  California        Home                  1       No  Website  \n",
      "2     USA  California        Home                  4      Yes   Agency  \n",
      "3     USA  California        Home                  5       No  Website  \n",
      "4    USA   California  Investment                  5       No  Website  \n",
      "   Unnamed: 0   ﻿id  building  date_sale       type  property#     area  \\\n",
      "0           0  1030         1  11/1/2005  Apartment         30   743.09   \n",
      "1           1  1029         1  10/1/2005  Apartment         29   756.21   \n",
      "2           2  2002         2   7/1/2007  Apartment          2   587.28   \n",
      "3           3  2031         2  12/1/2007  Apartment         31  1604.75   \n",
      "4           4  1049         1  11/1/2004  Apartment         49  1375.45   \n",
      "\n",
      "          price  status customerid  \n",
      "0  $246,172.68    Sold      C0028   \n",
      "1  $246,331.90    Sold      C0027   \n",
      "2  $209,280.91    Sold      C0112   \n",
      "3  $452,667.01    Sold      C0160   \n",
      "4  $467,083.31    Sold      C0014   \n"
     ]
    }
   ],
   "source": [
    "\n",
    "# View first few rows\n",
    "print(customers.head())\n",
    "print(properties.head())"
   ]
  },
  {
   "cell_type": "code",
   "execution_count": 56,
   "id": "f650612a",
   "metadata": {},
   "outputs": [
    {
     "name": "stdout",
     "output_type": "stream",
     "text": [
      "<class 'pandas.core.frame.DataFrame'>\n",
      "RangeIndex: 162 entries, 0 to 161\n",
      "Data columns (total 13 columns):\n",
      " #   Column             Non-Null Count  Dtype \n",
      "---  ------             --------------  ----- \n",
      " 0   Unnamed: 0         162 non-null    int64 \n",
      " 1   ﻿customerid        162 non-null    object\n",
      " 2   entity             162 non-null    object\n",
      " 3   name               162 non-null    object\n",
      " 4   surname            162 non-null    object\n",
      " 5   birth_date         155 non-null    object\n",
      " 6   sex                155 non-null    object\n",
      " 7   country            162 non-null    object\n",
      " 8   state              154 non-null    object\n",
      " 9   purpose            162 non-null    object\n",
      " 10  deal_satisfaction  162 non-null    int64 \n",
      " 11  mortgage           162 non-null    object\n",
      " 12  source             162 non-null    object\n",
      "dtypes: int64(2), object(11)\n",
      "memory usage: 16.6+ KB\n",
      "None\n",
      "<class 'pandas.core.frame.DataFrame'>\n",
      "RangeIndex: 267 entries, 0 to 266\n",
      "Data columns (total 10 columns):\n",
      " #   Column      Non-Null Count  Dtype  \n",
      "---  ------      --------------  -----  \n",
      " 0   Unnamed: 0  267 non-null    int64  \n",
      " 1   ﻿id         267 non-null    int64  \n",
      " 2   building    267 non-null    int64  \n",
      " 3   date_sale   267 non-null    object \n",
      " 4   type        267 non-null    object \n",
      " 5   property#   267 non-null    int64  \n",
      " 6   area        267 non-null    float64\n",
      " 7   price       267 non-null    object \n",
      " 8   status      267 non-null    object \n",
      " 9   customerid  195 non-null    object \n",
      "dtypes: float64(1), int64(4), object(5)\n",
      "memory usage: 21.0+ KB\n",
      "None\n"
     ]
    }
   ],
   "source": [
    "# Basic info\n",
    "print(customers.info())\n",
    "print(properties.info())"
   ]
  },
  {
   "cell_type": "code",
   "execution_count": 39,
   "id": "cc125782",
   "metadata": {},
   "outputs": [
    {
     "name": "stdout",
     "output_type": "stream",
     "text": [
      "Unnamed: 0           0\n",
      "﻿customerid          0\n",
      "entity               0\n",
      "name                 0\n",
      "surname              0\n",
      "birth_date           7\n",
      "sex                  7\n",
      "country              0\n",
      "state                8\n",
      "purpose              0\n",
      "deal_satisfaction    0\n",
      "mortgage             0\n",
      "source               0\n",
      "dtype: int64\n",
      "Unnamed: 0     0\n",
      "﻿id            0\n",
      "building       0\n",
      "date_sale      0\n",
      "type           0\n",
      "property#      0\n",
      "area           0\n",
      "price          0\n",
      "status         0\n",
      "customerid    72\n",
      "dtype: int64\n"
     ]
    }
   ],
   "source": [
    "# Check for missing values\n",
    "print(customers.isnull().sum())\n",
    "print(properties.isnull().sum())"
   ]
  },
  {
   "cell_type": "code",
   "execution_count": 57,
   "id": "c09ac5d0",
   "metadata": {},
   "outputs": [
    {
     "name": "stdout",
     "output_type": "stream",
     "text": [
      "0\n",
      "0\n"
     ]
    }
   ],
   "source": [
    "# Check for duplicates\n",
    "print(customers.duplicated().sum())\n",
    "print(properties.duplicated().sum())"
   ]
  },
  {
   "cell_type": "code",
   "execution_count": 58,
   "id": "b0cccb9d",
   "metadata": {},
   "outputs": [
    {
     "name": "stdout",
     "output_type": "stream",
     "text": [
      "['Unnamed: 0', '\\ufeffcustomerid', 'entity', 'name', 'surname', 'birth_date', 'sex', 'country', 'state', 'purpose', 'deal_satisfaction', 'mortgage', 'source']\n",
      "['Unnamed: 0', '\\ufeffid', 'building', 'date_sale', 'type', 'property#', 'area', 'price', 'status', 'customerid']\n"
     ]
    }
   ],
   "source": [
    "print(customers.columns.tolist())\n",
    "print(properties.columns.tolist())\n"
   ]
  },
  {
   "cell_type": "code",
   "execution_count": 61,
   "id": "c444d403",
   "metadata": {},
   "outputs": [
    {
     "name": "stdout",
     "output_type": "stream",
     "text": [
      "Cleaned Customer Columns: ['index', 'customerid', 'entity', 'name', 'surname', 'birthdate', 'sex', 'country', 'state', 'purpose', 'dealsatisfaction', 'mortgage', 'source']\n",
      "Cleaned Property Columns: ['index', 'id', 'building', 'datesale', 'type', 'property', 'area', 'price', 'status', 'customerid']\n"
     ]
    }
   ],
   "source": [
    "import re\n",
    "\n",
    "# --- Function to clean column names ---\n",
    "def clean_column_names(df):\n",
    "    df.columns = (\n",
    "        df.columns\n",
    "        .str.strip()                               # remove spaces at ends\n",
    "        .str.lower()                               # convert to lowercase\n",
    "        .str.replace('[^a-z0-9]', '', regex=True)  # REMOVE all special chars (no _)\n",
    "    )\n",
    "    # Rename unnamed0 → index if exists\n",
    "    if 'unnamed0' in df.columns:\n",
    "        df = df.rename(columns={'unnamed0': 'index'})\n",
    "    return df\n",
    "\n",
    "# Clean both tables\n",
    "customers = clean_column_names(customers)\n",
    "properties = clean_column_names(properties)\n",
    "\n",
    "print(\"Cleaned Customer Columns:\", customers.columns.tolist())\n",
    "print(\"Cleaned Property Columns:\", properties.columns.tolist())\n"
   ]
  },
  {
   "cell_type": "code",
   "execution_count": 62,
   "id": "3efd2931",
   "metadata": {},
   "outputs": [],
   "source": [
    "# --- Clean and prepare join column ---\n",
    "customers['customerid'] = customers['customerid'].astype(str).str.strip()\n",
    "properties['customerid'] = properties['customerid'].astype(str).str.strip()"
   ]
  },
  {
   "cell_type": "code",
   "execution_count": 64,
   "id": "c9831a23",
   "metadata": {},
   "outputs": [],
   "source": [
    "# --- Merge the two cleaned datasets ---\n",
    "merged_df = properties.merge(customers, on='customerid', how='inner')\n"
   ]
  },
  {
   "cell_type": "code",
   "execution_count": 65,
   "id": "1ff2ef11",
   "metadata": {},
   "outputs": [
    {
     "name": "stdout",
     "output_type": "stream",
     "text": [
      " Merged dataset shape: (195, 22)\n",
      " Missing values per column:\n",
      " index_x              0\n",
      "id                   0\n",
      "building             0\n",
      "datesale             0\n",
      "type                 0\n",
      "property             0\n",
      "area                 0\n",
      "price                0\n",
      "status               0\n",
      "customerid           0\n",
      "index_y              0\n",
      "entity               0\n",
      "name                 0\n",
      "surname              0\n",
      "birthdate           17\n",
      "sex                 17\n",
      "country              0\n",
      "state               14\n",
      "purpose              0\n",
      "dealsatisfaction     0\n",
      "mortgage             0\n",
      "source               0\n",
      "dtype: int64\n"
     ]
    }
   ],
   "source": [
    "# ---  Final checks ---\n",
    "print(\" Merged dataset shape:\", merged_df.shape)\n",
    "print(\" Missing values per column:\\n\", merged_df.isnull().sum())"
   ]
  }
 ],
 "metadata": {
  "kernelspec": {
   "display_name": "Python 3",
   "language": "python",
   "name": "python3"
  },
  "language_info": {
   "codemirror_mode": {
    "name": "ipython",
    "version": 3
   },
   "file_extension": ".py",
   "mimetype": "text/x-python",
   "name": "python",
   "nbconvert_exporter": "python",
   "pygments_lexer": "ipython3",
   "version": "3.13.7"
  }
 },
 "nbformat": 4,
 "nbformat_minor": 5
}
